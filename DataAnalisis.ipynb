{
 "cells": [
  {
   "cell_type": "markdown",
   "metadata": {},
   "source": [
    "Import library"
   ]
  },
  {
   "cell_type": "code",
   "execution_count": 1,
   "metadata": {},
   "outputs": [],
   "source": [
    "import pyreadr\n",
    "import pandas as pd\n",
    "import matplotlib.pyplot as plt"
   ]
  },
  {
   "cell_type": "markdown",
   "metadata": {},
   "source": [
    "Read data base"
   ]
  },
  {
   "cell_type": "code",
   "execution_count": 2,
   "metadata": {},
   "outputs": [],
   "source": [
    "data = pyreadr.read_r('../Result_out/0_Result_NetLogo_Merge.rds')\n",
    "data = pd.DataFrame(data[None])"
   ]
  },
  {
   "cell_type": "markdown",
   "metadata": {},
   "source": [
    "Generete data frame"
   ]
  },
  {
   "cell_type": "code",
   "execution_count": 3,
   "metadata": {},
   "outputs": [],
   "source": [
    "# Group by LenMemory, Simulation and NumberStrategy generate a mean\n",
    "data_mean = data.groupby(['LenMemory', 'Simulation', 'NumberStrategy']).mean()\n",
    "# Group by LenMemory, Simulation and NumberStrategy generate a std\n",
    "data_std = data.groupby(['LenMemory', 'Simulation', 'NumberStrategy']).std()"
   ]
  },
  {
   "cell_type": "code",
   "execution_count": 4,
   "metadata": {},
   "outputs": [],
   "source": [
    "data_n_zeros = pd.concat([data_mean['n_zeros'],data_std['n_zeros']], axis=1)\n",
    "data_n_zeros.columns = ['n_zeros_mean', 'n_zeros_std']\n",
    "data_n_zeros.reset_index(inplace=True)"
   ]
  },
  {
   "cell_type": "code",
   "execution_count": 5,
   "metadata": {},
   "outputs": [],
   "source": [
    "# Filter data_n_zeros by LenMemory = 2\n",
    "data_n_zeros_2 = data_n_zeros[data_n_zeros['LenMemory'] == 2]"
   ]
  },
  {
   "cell_type": "markdown",
   "metadata": {},
   "source": [
    " Plot"
   ]
  },
  {
   "cell_type": "code",
   "execution_count": 6,
   "metadata": {},
   "outputs": [
    {
     "data": {
      "text/plain": [
       "<matplotlib.collections.PathCollection at 0x7fb4e0944520>"
      ]
     },
     "execution_count": 6,
     "metadata": {},
     "output_type": "execute_result"
    },
    {
     "data": {
      "image/png": "[encoded data removed]",
      "text/plain": [
       "<Figure size 432x288 with 1 Axes>"
      ]
     },
     "metadata": {
      "needs_background": "light"
     },
     "output_type": "display_data"
    }
   ],
   "source": [
    "# plot n_zeros_mean by NumberStrategy\n",
    "plt.scatter(data_n_zeros_2['NumberStrategy'], data_n_zeros_2['n_zeros_std'], s=10, c='red')"
   ]
  }
 ],
 "metadata": {
  "interpreter": {
   "hash": "1d4b2c98096c98391e3b93c42d50580097f9a9ba23344ba6d819e460b6b60b00"
  },
  "kernelspec": {
   "display_name": "Python 3.9.7 64-bit ('Tesis': conda)",
   "language": "python",
   "name": "python3"
  },
  "language_info": {
   "codemirror_mode": {
    "name": "ipython",
    "version": 3
   },
   "file_extension": ".py",
   "mimetype": "text/x-python",
   "name": "python",
   "nbconvert_exporter": "python",
   "pygments_lexer": "ipython3",
   "version": "3.9.7"
  },
  "orig_nbformat": 4
 },
 "nbformat": 4,
 "nbformat_minor": 2
}
